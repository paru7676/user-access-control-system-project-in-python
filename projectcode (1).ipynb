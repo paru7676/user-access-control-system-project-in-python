{
 "cells": [
  {
   "cell_type": "code",
   "execution_count": null,
   "id": "1e5c979e-6557-4e4d-a49e-5dbcf56b50da",
   "metadata": {},
   "outputs": [],
   "source": []
  },
  {
   "cell_type": "code",
   "execution_count": 1,
   "id": "d6e11909-afad-4827-987d-b2039d266a9c",
   "metadata": {},
   "outputs": [
    {
     "name": "stdout",
     "output_type": "stream",
     "text": [
      "\n",
      "1. Create Account\n",
      "2. Login\n",
      "3. Logout\n",
      "4. Delete Account\n",
      "5. Exit\n"
     ]
    },
    {
     "name": "stdin",
     "output_type": "stream",
     "text": [
      "Enter your choice:  1\n",
      "Enter name:  Paru\n",
      "Enter email:  parujakaraddi@gmail.com\n",
      "Enter password:  123\n",
      "Enter role (employee/manager/ceo):  ceo\n"
     ]
    },
    {
     "name": "stdout",
     "output_type": "stream",
     "text": [
      "Account created successfully.\n",
      "\n",
      "1. Create Account\n",
      "2. Login\n",
      "3. Logout\n",
      "4. Delete Account\n",
      "5. Exit\n"
     ]
    },
    {
     "name": "stdin",
     "output_type": "stream",
     "text": [
      "Enter your choice:  2\n",
      "Enter email:  parujakaraddi@gmail.com\n",
      "Enter password:  123\n"
     ]
    },
    {
     "name": "stdout",
     "output_type": "stream",
     "text": [
      "Login successful.\n",
      "\n",
      "1. Create Account\n",
      "2. Login\n",
      "3. Logout\n",
      "4. Delete Account\n",
      "5. Exit\n"
     ]
    },
    {
     "name": "stdin",
     "output_type": "stream",
     "text": [
      "Enter your choice:  3\n"
     ]
    },
    {
     "name": "stdout",
     "output_type": "stream",
     "text": [
      "Logged in at: 2024-05-08 19:15:03\n",
      "Logged out at: 2024-05-08 19:15:12\n",
      "Goodbye, Paru!\n",
      "\n",
      "1. Create Account\n",
      "2. Login\n",
      "3. Logout\n",
      "4. Delete Account\n",
      "5. Exit\n"
     ]
    },
    {
     "name": "stdin",
     "output_type": "stream",
     "text": [
      "Enter your choice:  4\n",
      "Enter email:  parujakaraddi@gmail.com\n",
      "Enter password:  123\n"
     ]
    },
    {
     "name": "stdout",
     "output_type": "stream",
     "text": [
      "Account deleted successfully.\n",
      "\n",
      "1. Create Account\n",
      "2. Login\n",
      "3. Logout\n",
      "4. Delete Account\n",
      "5. Exit\n"
     ]
    },
    {
     "name": "stdin",
     "output_type": "stream",
     "text": [
      "Enter your choice:  5\n"
     ]
    },
    {
     "name": "stdout",
     "output_type": "stream",
     "text": [
      "Exiting...\n"
     ]
    }
   ],
   "source": [
    "import datetime\n",
    "\n",
    "class User:\n",
    "    def __init__(self, name, email, password, role):\n",
    "        self.name = name\n",
    "        self.email = email\n",
    "        self.password = password\n",
    "        self.role = role\n",
    "        self.login_time = None\n",
    "\n",
    "class AccountManager:\n",
    "    def __init__(self):\n",
    "        self.users = {}  # Using a dictionary for faster lookup\n",
    "\n",
    "    def create_account(self):\n",
    "        name = input(\"Enter name: \")\n",
    "        email = input(\"Enter email: \")\n",
    "        password = input(\"Enter password: \")\n",
    "        role = input(\"Enter role (employee/manager/ceo): \")\n",
    "\n",
    "        if email in self.users:\n",
    "            print(\"Account already exists.\")\n",
    "            return\n",
    "\n",
    "        new_user = User(name, email, password, role)\n",
    "        self.users[email] = new_user  # Storing user with email as key\n",
    "        with open(\"accounts.txt\", \"a\") as f:\n",
    "            f.write(f\"{name}, {email}, {password}, {role}\\n\")\n",
    "        print(\"Account created successfully.\")\n",
    "\n",
    "    def login(self):\n",
    "        email = input(\"Enter email: \")\n",
    "        password = input(\"Enter password: \")\n",
    "        user = self.users.get(email)\n",
    "        if user and user.password == password:\n",
    "            user.login_time = datetime.datetime.now()\n",
    "            print(\"Login successful.\")\n",
    "            return user\n",
    "        print(\"Invalid email or password.\")\n",
    "\n",
    "    def logout(self, user):\n",
    "        if user.login_time:\n",
    "            print(f\"Logged in at: {user.login_time.strftime('%Y-%m-%d %H:%M:%S')}\")\n",
    "        logout_time = datetime.datetime.now()\n",
    "        print(f\"Logged out at: {logout_time.strftime('%Y-%m-%d %H:%M:%S')}\")\n",
    "        user.login_time = None\n",
    "        print(f\"Goodbye, {user.name}!\")\n",
    "\n",
    "    def delete_account(self):\n",
    "        email = input(\"Enter email: \")\n",
    "        password = input(\"Enter password: \")\n",
    "        user = self.users.get(email)\n",
    "        if user and user.password == password:\n",
    "            del self.users[email]  # Remove user from dictionary\n",
    "            self._update_accounts_file(user)  # Update the accounts file with the deleted user\n",
    "            print(\"Account deleted successfully.\")\n",
    "        else:\n",
    "            print(\"Account not found .\")\n",
    "\n",
    "    def _update_accounts_file(self, user):\n",
    "        with open(\"accounts.txt\", \"r\") as f:\n",
    "            lines = f.readlines()\n",
    "        with open(\"accounts.txt\", \"w\") as f:\n",
    "            for line in lines:\n",
    "                if user.email not in line:  # Skip the line with the deleted user\n",
    "                    f.write(line)\n",
    "\n",
    "def main():\n",
    "    account_manager = AccountManager()\n",
    "    logged_in_user = None\n",
    "    while True:\n",
    "        print(\"\\n1. Create Account\\n2. Login\\n3. Logout\\n4. Delete Account\\n5. Exit\")\n",
    "        choice = input(\"Enter your choice: \")\n",
    "        if choice == \"1\":\n",
    "            account_manager.create_account()\n",
    "        elif choice == \"2\":\n",
    "            logged_in_user = account_manager.login()\n",
    "            if logged_in_user:\n",
    "                pass\n",
    "        elif choice == \"3\":\n",
    "            if logged_in_user:\n",
    "                account_manager.logout(logged_in_user)\n",
    "                logged_in_user = None\n",
    "            else:\n",
    "                print(\"You are not logged in.\")\n",
    "        elif choice == \"4\":\n",
    "            account_manager.delete_account()\n",
    "        elif choice == \"5\":\n",
    "            print(\"Exiting...\")\n",
    "            break\n",
    "        else:\n",
    "            print(\"Invalid choice. Please try again.\")\n",
    "\n",
    "if __name__ == \"__main__\":\n",
    "    main()"
   ]
  },
  {
   "cell_type": "code",
   "execution_count": null,
   "id": "6081b2a4-841d-4737-ad02-d4a6262300c5",
   "metadata": {},
   "outputs": [],
   "source": []
  }
 ],
 "metadata": {
  "kernelspec": {
   "display_name": "Python 3 (ipykernel)",
   "language": "python",
   "name": "python3"
  },
  "language_info": {
   "codemirror_mode": {
    "name": "ipython",
    "version": 3
   },
   "file_extension": ".py",
   "mimetype": "text/x-python",
   "name": "python",
   "nbconvert_exporter": "python",
   "pygments_lexer": "ipython3",
   "version": "3.12.3"
  }
 },
 "nbformat": 4,
 "nbformat_minor": 5
}
